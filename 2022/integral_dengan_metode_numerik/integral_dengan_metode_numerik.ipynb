{
  "nbformat": 4,
  "nbformat_minor": 0,
  "metadata": {
    "colab": {
      "name": "Integral dengan Persegi.ipynb",
      "provenance": []
    },
    "kernelspec": {
      "name": "python3",
      "display_name": "Python 3"
    },
    "language_info": {
      "name": "python"
    }
  },
  "cells": [
    {
      "cell_type": "markdown",
      "source": [
        "Hai, kita tau kalau integral itu sering dibilang sebagai luas di bawah kurva. Dengan rumus kayak\n",
        "\n",
        "$$\\int_{x_i}^{x_f}x^n\\,dx = (\\frac{1}{n+1}x_f^{n+1} - \\frac{1}{n+1}x_i^{n+1}) + c$$\n",
        "\n",
        "kita bisa menghitung luas di bawah kurva fungsi apapun dengan akurat. Mungkin dari kalian ada yang mikir, \"mana unsur luasnya dalam rumusnya?\"\n",
        "\n",
        "Kita bisa bayangin kalau simbol integral itu penjumlahan, semacam simbol $\\Sigma$. Kalau misal kita punya grafik kayak gini, kita bisa potong rata sepanjang misalnya $dx$, terus kita tarik garis sepanjang $f(x)$ secara vertikal. Bisa dibilang kalau persegi-persegi ini kita jumlahin kita dapet integral dari fungsinya. Dengan konsep tadi, kalau kita potong sampai kecil banget, hasilnya bakal akurat banget kan? Di sini kita akan coba untuk menyelesaikan integral dengan cara ini.\n",
        "\n",
        "Buat contoh, kita mau cari integral dari $x^2$ dari 1 sampai 4. Pertama, kita mau tau cara bagi rata angka dari 1 sampai 4."
      ],
      "metadata": {
        "id": "Cj4BCN3A-TQG"
      }
    },
    {
      "cell_type": "code",
      "execution_count": null,
      "metadata": {
        "colab": {
          "base_uri": "https://localhost:8080/"
        },
        "id": "SuoKvPpT-RGI",
        "outputId": "0caa7c0d-a260-48fb-b467-2977bb0bc60a"
      },
      "outputs": [
        {
          "output_type": "stream",
          "name": "stdout",
          "text": [
            "1.0\n",
            "1.6\n",
            "2.2\n",
            "2.8\n",
            "3.4\n",
            "4.0\n"
          ]
        }
      ],
      "source": [
        "a = 1\n",
        "b = 4\n",
        "n = 5\n",
        "dx = (b-a)/n\n",
        "\n",
        "for i in range(n+1):\n",
        "    print(a + dx*i)"
      ]
    },
    {
      "cell_type": "markdown",
      "source": [
        "Nah, kita sudah punya titik-titiknya. Sekarang kita lakuin tarik garis dan hitung luas dari persegi yang terbentuk"
      ],
      "metadata": {
        "id": "zkq9Ft4XXh3w"
      }
    },
    {
      "cell_type": "code",
      "source": [
        "def f(x):\n",
        "    return x**2\n",
        "\n",
        "total = 0\n",
        "for i in range(n):\n",
        "    total += dx * f(a + dx*i)\n",
        "\n",
        "print(total)"
      ],
      "metadata": {
        "colab": {
          "base_uri": "https://localhost:8080/"
        },
        "id": "80E6cm8CXP1p",
        "outputId": "2d583884-3eeb-436f-bf5f-310f9a4277b6"
      },
      "execution_count": null,
      "outputs": [
        {
          "output_type": "stream",
          "name": "stdout",
          "text": [
            "16.68\n"
          ]
        }
      ]
    },
    {
      "cell_type": "markdown",
      "source": [
        "Hasilnya 16.68 menurut ini, coba kita cek sendiri.\n",
        "\n",
        "$$\\int_1^4 x^2 \\,dx = \\frac{1}{3}4^3 - \\frac{1}{3}1^3 = 21$$\n",
        "\n",
        "keliatannya kurang bener, ini karena kekosongan dari pendekatan persegi menyebabkan hasilnya kurang dari yang seharusnya. Kalau `n` kita banyakin, hasilnya harusnya semakin mendekati."
      ],
      "metadata": {
        "id": "H8XxTxyeYMdK"
      }
    },
    {
      "cell_type": "code",
      "source": [
        "n = 100000\n",
        "dx = (b-a)/n\n",
        "\n",
        "total = 0\n",
        "for i in range(n):\n",
        "    total += dx * f(a + dx*i)\n",
        "\n",
        "print(total)"
      ],
      "metadata": {
        "colab": {
          "base_uri": "https://localhost:8080/"
        },
        "id": "C0RHPS7SX4TH",
        "outputId": "8eb2e240-2237-4bd0-c79b-87cdd0eb350b"
      },
      "execution_count": null,
      "outputs": [
        {
          "output_type": "stream",
          "name": "stdout",
          "text": [
            "20.99977500045012\n"
          ]
        }
      ]
    },
    {
      "cell_type": "markdown",
      "source": [
        "Sudah lumayan mendekati sekarang. Sebenarnya metode ini ada dua versi, satu yang kekurangan yang sudah kita coba dan versi yang kelebihan. Untuk yang versi kelebihan, kita tinggal modif satu hal aja dari kodenya. Sekarang, harusnya kita mendapatkan hasil lebih besar dari yang versi kekurangan."
      ],
      "metadata": {
        "id": "5L5RPUvkY8e5"
      }
    },
    {
      "cell_type": "code",
      "source": [
        "n = 100000\n",
        "dx = (b-a)/n\n",
        "\n",
        "total = 0\n",
        "for i in range(n):\n",
        "    total += dx * f(a + dx*(i+1))\n",
        "\n",
        "print(total)"
      ],
      "metadata": {
        "colab": {
          "base_uri": "https://localhost:8080/"
        },
        "id": "uAko1XLRY7hh",
        "outputId": "d1fa3864-a91b-4009-b2a6-617b7fec959b"
      },
      "execution_count": null,
      "outputs": [
        {
          "output_type": "stream",
          "name": "stdout",
          "text": [
            "21.000225000450122\n"
          ]
        }
      ]
    },
    {
      "cell_type": "markdown",
      "source": [
        "Bisa gak kita cari metode lain yang lebih akurat? Tentu bisa, mungkin ada yang sudah kepikiran, gimana kalau bentuknya trapesium? Caranya masih sama, cuma beda di rumus mencari luas aja. Rumus luas trapesium itu \n",
        "\n",
        "$$\\frac{1}{2}(a+b)h$$\n",
        "\n",
        "di sini, $a$ dan $b$ itu tinggi dari fungsinya dan $h$ itu adalah $dx$ kita\n"
      ],
      "metadata": {
        "id": "4NdpLVTLZWa1"
      }
    },
    {
      "cell_type": "code",
      "source": [
        "n = 5\n",
        "dx = (b-a)/n\n",
        "\n",
        "total = 0\n",
        "for i in range(n):\n",
        "    x1 = a + dx*i\n",
        "    x2 = a + dx*(i+1)\n",
        "    total += 1/2 * (f(x1) + f(x2)) * dx\n",
        "\n",
        "print(total)"
      ],
      "metadata": {
        "colab": {
          "base_uri": "https://localhost:8080/"
        },
        "id": "Jb3wBlYbZVVF",
        "outputId": "e1dc9edf-a732-42e5-8000-4de573484ac8"
      },
      "execution_count": null,
      "outputs": [
        {
          "output_type": "stream",
          "name": "stdout",
          "text": [
            "21.18\n"
          ]
        }
      ]
    },
    {
      "cell_type": "markdown",
      "source": [
        "Kita coba dengan `n = 5` dan hasilnya sudah mendekati, di sini kita bisa liat dengan metode yang lebih bagus, hasilnya lebih cepat mendekati yang sebenarnya. Buat yang pengen tau, ini hasilnya kalau 100000 iterasi."
      ],
      "metadata": {
        "id": "NibaSaHaaTly"
      }
    },
    {
      "cell_type": "code",
      "source": [
        "n = 100000\n",
        "dx = (b-a)/n\n",
        "\n",
        "total = 0\n",
        "for i in range(n):\n",
        "    x1 = a + dx*i\n",
        "    x2 = a + dx*(i+1)\n",
        "    total += 1/2 * (f(x1) + f(x2)) * dx\n",
        "\n",
        "print(total)"
      ],
      "metadata": {
        "colab": {
          "base_uri": "https://localhost:8080/"
        },
        "id": "9efIE53GaOjw",
        "outputId": "a71d9aed-a012-42d6-85e9-daf3ab0cc76b"
      },
      "execution_count": null,
      "outputs": [
        {
          "output_type": "stream",
          "name": "stdout",
          "text": [
            "21.000000000449916\n"
          ]
        }
      ]
    },
    {
      "cell_type": "markdown",
      "source": [
        "Buat nyicip metode apa lagi yang ada, ini aku kasih lihat metode Simpson 1/3. \n",
        "\n",
        "$$\n",
        "\\int_a^b f(x) dx \\approx \\frac{b-a}{3n} \\left( f(x_0) + 4 \\sum_{i = 1,3,5,...}^{n-1} f(x_i) + 2 \\sum_{i = 2,4,6,...}^{n-2} f(x_i) + f(x_{n})\\right)\n",
        "$$\n",
        "dengan $x_0 = a$ dan $x_i = a + ih$ dan nilai n harus genap"
      ],
      "metadata": {
        "id": "tuP6ydWjbRFV"
      }
    },
    {
      "cell_type": "code",
      "source": [
        "n = 6\n",
        "dx = (b-a)/n\n",
        "\n",
        "total = f(a) + f(a + n*dx)\n",
        "\n",
        "for i in range(1, n, 2):\n",
        "  total += 4*f(a + i*dx)\n",
        "  total += 2*f(a + (i+1)*dx)\n",
        "\n",
        "total *= dx/3\n",
        "\n",
        "print(total)"
      ],
      "metadata": {
        "colab": {
          "base_uri": "https://localhost:8080/"
        },
        "id": "ax05t6qlaZcc",
        "outputId": "ad24a8ec-b5f2-42f1-9cf1-ad9f9d06fe41"
      },
      "execution_count": null,
      "outputs": [
        {
          "output_type": "stream",
          "name": "stdout",
          "text": [
            "26.333333333333332\n"
          ]
        }
      ]
    },
    {
      "cell_type": "markdown",
      "source": [
        "Kok pas dicoba `n = 5` hasilnya lebih jelek dari yang trapesium? Masing-masing metode punya kelebihan dan kekurangannya masing-masing. Kita coba pakai metode Simpson untuk menghitung integral dari fungsi $\\sin(x)$ dari 0 sampai $\\frac{\\pi}{2}$ dan kita bandingkan dengan metode trapesium\n",
        "\n",
        "Hasil yang seharusnya didapatkan adalah\n",
        "$$\\int_0^{\\frac{\\pi}{2}} \\sin x\\,dx = -\\cos{\\frac{\\pi}{2}} -(-\\cos{0}) = 1$$"
      ],
      "metadata": {
        "id": "4unAKf6edsf0"
      }
    },
    {
      "cell_type": "code",
      "source": [
        "from math import sin, pi, exp\n",
        "def f(x):\n",
        "    return sin(x)\n",
        "\n",
        "a = 0\n",
        "b = pi\n",
        "n = 4\n",
        "dx = (b-a)/n\n",
        "\n",
        "total = f(a) + f(a + n*dx)\n",
        "\n",
        "for i in range(1, n, 2):\n",
        "  total += 4*f(a + i*dx)\n",
        "  total += 2*f(a + (i+1)*dx)\n",
        "\n",
        "total *= dx/3\n",
        "\n",
        "print(total)\n",
        "print(total-2)"
      ],
      "metadata": {
        "colab": {
          "base_uri": "https://localhost:8080/"
        },
        "id": "vM_fiqLgdXlD",
        "outputId": "9088f347-73c9-4265-bd10-ff63aa9e7832"
      },
      "execution_count": null,
      "outputs": [
        {
          "output_type": "stream",
          "name": "stdout",
          "text": [
            "2.0045597549844207\n",
            "0.0045597549844207386\n"
          ]
        }
      ]
    },
    {
      "cell_type": "code",
      "source": [
        "dx = (b-a)/n\n",
        "\n",
        "total = 0\n",
        "for i in range(n):\n",
        "    x1 = a + dx*i\n",
        "    x2 = a + dx*(i+1)\n",
        "    total += 1/2 * (f(x1) + f(x2)) * dx\n",
        "\n",
        "print(total)\n",
        "print(total-2)"
      ],
      "metadata": {
        "colab": {
          "base_uri": "https://localhost:8080/"
        },
        "id": "lPDa6BR_eTAp",
        "outputId": "75801f3c-cfad-4133-aa72-cde997e7dae6"
      },
      "execution_count": null,
      "outputs": [
        {
          "output_type": "stream",
          "name": "stdout",
          "text": [
            "1.8961188979370398\n",
            "-0.1038811020629602\n"
          ]
        }
      ]
    },
    {
      "cell_type": "markdown",
      "source": [
        "Dengan `n = 4`, metode Simpson 1/3 sudah bisa mendekati hasil integralnya.\n",
        "\n",
        "Beberapa metode lainnya yang aku tau itu\n",
        "1. Metoda Simpson 3/8, sama kayak Simpson 1/3 tapi lebih akurat dan\n",
        "1. Monte carlo, ini unik, kusaranin untuk dipelajari\n",
        "3. Ada juga pakai SciPy.integrate.quad\n",
        "\n",
        "Semoga berguna, bhay!"
      ],
      "metadata": {
        "id": "AgZt9gE8gC8f"
      }
    },
    {
      "cell_type": "code",
      "source": [
        ""
      ],
      "metadata": {
        "id": "Y6qk1fM6eWgH"
      },
      "execution_count": null,
      "outputs": []
    }
  ]
}