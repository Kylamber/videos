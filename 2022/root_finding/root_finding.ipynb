{
  "nbformat": 4,
  "nbformat_minor": 0,
  "metadata": {
    "colab": {
      "name": "Pencarian akar dengan Python.ipynb",
      "provenance": []
    },
    "kernelspec": {
      "name": "python3",
      "display_name": "Python 3"
    },
    "language_info": {
      "name": "python"
    }
  },
  "cells": [
    {
      "cell_type": "markdown",
      "source": [
        "Bayangin kalian lagi narik kotak dan ada yang narik berlawanan kayak gini ![image.png](data:image/png;base64,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)"
      ],
      "metadata": {
        "id": "lLPwaZqdvgDo"
      }
    },
    {
      "cell_type": "markdown",
      "source": [
        "Andaikan kotakya hanya dapat bergerak di sumbu-x, kita cuma mau tau dengan sudut apa kotaknya tidak akan bergerak di sumbu-x. Misal $F_1 = 30 \\,\\mathrm{N}$ dan Misal $F_2 = 10 \\,\\mathrm{N}$, berapa $\\theta$ agar $\\Sigma F_x = 0$?\n",
        "\n",
        "Kalau kita coba selesaikan secara analitik\n",
        "\n",
        "$$30\\sin{\\theta} = 10\\cos{\\theta}$$\n",
        "\n",
        "$$tan{\\theta} = \\frac{1}{3},\\, \\theta = 18.43^\\circ$$\n",
        "\n",
        "Hoh, dalam ekspektasiku lebih sulit buat diselesain... Tapi andaikan aja kita gak bisa ngitung arctan buat dapetin theta."
      ],
      "metadata": {
        "id": "WLoTGzBkwYh-"
      }
    },
    {
      "cell_type": "markdown",
      "source": [
        "Ada cara pencarian akar atau root finding yang bisa kita pakai untuk nyelesain permasalahan di atas. Sudah tau kan pencarian akar tuh yang gimana? Pas disuruh cari sesuatu sama dengan 0. Dari persoalan di atas, kita bisa tulis ulang menjadi\n",
        "\n",
        "$$30\\sin{\\theta} - 10\\cos{\\theta} = 0$$\n",
        "\n",
        "Kita langsung aja ke metode pertama, yaitu bisection. \n",
        "1. Di sini kita ambil dua titik, a dan b, yang kita akan sebut sebagai bracket dan diantara titik a dan b itu ada akar yang kita ingin cari. \n",
        "1. Ambil rata-rata dari a dan b yang akan kita namakan c.\n",
        "1. Kita cari tahu apa akarnya berada di dalam a dan c atau b dan c, caranya adalah dengan menghitung $f(a)\\times f(c)$ dan $f(b)\\times f(c)$. Yang hasilnya negatif berarti letak akarnya berada diantara kedua angka tersebut.\n",
        "1. Step di atas diulang sampai mendapatkan akarnya.\n"
      ],
      "metadata": {
        "id": "iiZY_CGO31qk"
      }
    },
    {
      "cell_type": "code",
      "execution_count": null,
      "metadata": {
        "colab": {
          "base_uri": "https://localhost:8080/"
        },
        "id": "JPjEndbyIcP1",
        "outputId": "1987aac0-b52e-4876-e72d-03692a8a5f6d"
      },
      "outputs": [
        {
          "output_type": "stream",
          "name": "stdout",
          "text": [
            "0.34375\n"
          ]
        }
      ],
      "source": [
        "from math import sin, cos\n",
        "\n",
        "def f(x):\n",
        "    return 30*sin(x) - 10*cos(x)\n",
        "\n",
        "a = 0\n",
        "b = 1\n",
        "\n",
        "for i in range(5):\n",
        "    c = (a+b)/2\n",
        "    if f(a) * f(c) < 0:\n",
        "        b = c\n",
        "    else:\n",
        "        a = c\n",
        "\n",
        "print(c)"
      ]
    },
    {
      "cell_type": "markdown",
      "source": [
        "Kita bisa loop sampai banyak kali hingga menemukan akarnya, tapi kan kurang efektif. Di sini aku akan nunjukin cara untuk bisa stop otomatis kalau memang dikira mencapai akarnya.\n",
        "\n",
        "Kita akan lihat perubahan angka dari yang lama dan baru, kalau gak terlalu gede berarti sudah dekat dengan hasil yang kita inginkan. Pakai rumus\n",
        "\n",
        "$$\\mathrm{err} = \\left|\\frac{c-c_{\\mathrm{lama}}}{c}\\right|$$"
      ],
      "metadata": {
        "id": "5F_4-Jo25Erw"
      }
    },
    {
      "cell_type": "code",
      "source": [
        "def f(x):\n",
        "    return 30*sin(x) - 10*cos(x)\n",
        "\n",
        "a = 0\n",
        "b = 1\n",
        "clama = 1000\n",
        "error = 100\n",
        "\n",
        "while error > 1/100:\n",
        "    c = (a+b)/2\n",
        "    if f(a) * f(c) < 0:\n",
        "        b = c\n",
        "    else:\n",
        "        a = c\n",
        "    \n",
        "    error = abs((c-clama)/c)\n",
        "    clama = c\n",
        "\n",
        "print(c)"
      ],
      "metadata": {
        "colab": {
          "base_uri": "https://localhost:8080/"
        },
        "id": "dAyA5qZ35A5O",
        "outputId": "2dbc99c3-1a8e-49eb-cb1a-08aa1e792767"
      },
      "execution_count": null,
      "outputs": [
        {
          "output_type": "stream",
          "name": "stdout",
          "text": [
            "0.322265625\n"
          ]
        }
      ]
    },
    {
      "cell_type": "markdown",
      "source": [
        "Sebelum lanjut ke metode selanjutnya, mau kasih fun note aja yang aku baru sadari kalau dengan metode di atas, pasti salah satu dari $f(a)*f(c)$ atau $f(b)*f(c)$ hasilnya negatif. Selain dari itu, hasil keduanya pasti 0. Kalian bisa coba sendiri kalau angka c ternyata memang akarnya."
      ],
      "metadata": {
        "id": "sZfEfxBK-tEX"
      }
    },
    {
      "cell_type": "markdown",
      "source": [
        "Metode selanjutnya adalah Regula Falsi, di sini angka barunya tidak diambil dari rata-rata kedua angka yang dipilih, tapi dengan mentarik garis dan mencari di mana garis tersebut berpotongan dengan y = 0. Tempat garis berpotongan itu yang akan menjadi c barunya. Rumusnya adalah seperti ini\n",
        "\n",
        "$$c = a - \\frac{f(a)(a-b)}{f(a)-f(b)}$$"
      ],
      "metadata": {
        "id": "IOmqWGSQ57b1"
      }
    },
    {
      "cell_type": "code",
      "source": [
        "def f(x):\n",
        "    return 30*sin(x) - 10*cos(x)\n",
        "\n",
        "a = 0\n",
        "b = 1\n",
        "clama = 1000\n",
        "error = 100\n",
        "\n",
        "while error > 1/100:\n",
        "    c = a - (f(a)*(a-b))/(f(a) - f(b))\n",
        "    if f(a) * f(c) < 0:\n",
        "        b = c\n",
        "    else:\n",
        "        a = c\n",
        "    \n",
        "    error = abs((c-clama)/c)\n",
        "    clama = c\n",
        "\n",
        "print(c)"
      ],
      "metadata": {
        "colab": {
          "base_uri": "https://localhost:8080/"
        },
        "id": "7ZgGiTcQ5nys",
        "outputId": "a3790489-2565-4059-bb1e-0c94493283da"
      },
      "execution_count": null,
      "outputs": [
        {
          "output_type": "stream",
          "name": "stdout",
          "text": [
            "0.3217505609303644\n"
          ]
        }
      ]
    },
    {
      "cell_type": "markdown",
      "source": [
        "Apa bedanya sama metode sebelumnya kalau hasilnya sama aja? Kita coba liat berapa banyak perulangan yang diperlukan masing-masing metode"
      ],
      "metadata": {
        "id": "HB42uoc76XFb"
      }
    },
    {
      "cell_type": "code",
      "source": [
        "def f(x):\n",
        "    return 30*sin(x) - 10*cos(x)\n",
        "\n",
        "a = 0\n",
        "b = 1\n",
        "clama = 1000\n",
        "error = 100\n",
        "i = 0\n",
        "\n",
        "while error > 1/100:\n",
        "    c = (a+b)/2\n",
        "    i += 1\n",
        "    \n",
        "\n",
        "    if f(a) * f(c) < 0:\n",
        "        b = c\n",
        "    else:\n",
        "        a = c\n",
        "    \n",
        "    error = abs((c-clama)/c)\n",
        "    clama = c\n",
        "\n",
        "print(i)\n",
        "print(c)"
      ],
      "metadata": {
        "colab": {
          "base_uri": "https://localhost:8080/"
        },
        "id": "MabcO-wU6ktl",
        "outputId": "9bb6773f-062d-47ac-f755-7cea8446bf24"
      },
      "execution_count": null,
      "outputs": [
        {
          "output_type": "stream",
          "name": "stdout",
          "text": [
            "9\n",
            "0.322265625\n"
          ]
        }
      ]
    },
    {
      "cell_type": "code",
      "source": [
        "def f(x):\n",
        "    return 30*sin(x) - 10*cos(x)\n",
        "\n",
        "a = 0\n",
        "b = 1\n",
        "clama = 1000\n",
        "error = 100\n",
        "i = 0\n",
        "\n",
        "while error > 1/100:\n",
        "    i += 1\n",
        "    \n",
        "    c = a - (f(a)*(a-b))/(f(a) - f(b))\n",
        "    if f(a) * f(c) < 0:\n",
        "        b = c\n",
        "    else:\n",
        "        a = c\n",
        "    \n",
        "    error = abs((c-clama)/c)\n",
        "    clama = c\n",
        "\n",
        "print(i)\n",
        "print(c)"
      ],
      "metadata": {
        "colab": {
          "base_uri": "https://localhost:8080/"
        },
        "id": "GL8LG63H6VcU",
        "outputId": "b3b488f2-128e-4613-a1cf-a7f3c773bdc2"
      },
      "execution_count": null,
      "outputs": [
        {
          "output_type": "stream",
          "name": "stdout",
          "text": [
            "3\n",
            "0.3217505609303644\n"
          ]
        }
      ]
    },
    {
      "cell_type": "markdown",
      "source": [
        "Kita bisa lihat, regula falsi mendapatkan hasilnya cuma dalam 3 perulangan dan hasilnya lebih akurat dibandingkan yang bisection."
      ],
      "metadata": {
        "id": "VKgTH5Zp6rPn"
      }
    },
    {
      "cell_type": "markdown",
      "source": [
        "Sampai saat ini kita ngeliat kalau untuk mencari akar kita perlu 2 titik. Ada gak cara yang bisa mencari akar cuma dengan 1 titik random aja? Di sini datang metode Newton Rhapson. Tadi pakai metode regula falsi kita sudah ngeliat cara tarik garis dengan 2 titik, kita juga bisa ngelakuin tarik garis itu dengan 1 titik aja. Karena turunan itu sama dengan kemiringan atau gradien dan hanya memerlukan satu titik, kita bisa buat persamaan seperti ini\n",
        "\n",
        "$$c = a - \\frac{f(a)}{f'(a)}$$"
      ],
      "metadata": {
        "id": "WT8zAMfQ7YXA"
      }
    },
    {
      "cell_type": "code",
      "source": [
        "def f(x):\n",
        "    return 30*sin(x) - 10*cos(x)\n",
        "\n",
        "def fd(x):\n",
        "    return 30*cos(x) + 10*sin(x)\n",
        "\n",
        "a = 0\n",
        "clama = 1000\n",
        "error = 100\n",
        "i = 0\n",
        "\n",
        "while error > 1/100:\n",
        "    i += 1\n",
        "    \n",
        "    c = a - f(a)/fd(a)\n",
        "    \n",
        "    error = abs((c-clama)/c)\n",
        "    clama = c\n",
        "    a = c\n",
        "\n",
        "print(i)\n",
        "print(c)"
      ],
      "metadata": {
        "colab": {
          "base_uri": "https://localhost:8080/"
        },
        "id": "Pt0HIc2m6qCV",
        "outputId": "592fabfe-7ed9-4657-9db6-e59f4571a238"
      },
      "execution_count": null,
      "outputs": [
        {
          "output_type": "stream",
          "name": "stdout",
          "text": [
            "3\n",
            "0.3217505543966422\n"
          ]
        }
      ]
    },
    {
      "cell_type": "markdown",
      "source": [
        "Kita dapat hasil yang sama dan dalam jumlah perulangan yang sama dengan Regula Falsi. Tapi, kita tau kalau sin dan cos itu adalah fungsi yang siklik, berarti dalam fungsi ini ada lebih dari 1 akar. Kalau kita taro titik kita misanya di a = 3, kita akan mendapatkan hasil yang berbeda. Bisa coba plot grafiknya biar bisa tau sendiri"
      ],
      "metadata": {
        "id": "PtQhKldL8WhB"
      }
    },
    {
      "cell_type": "code",
      "source": [
        "def f(x):\n",
        "    return 30*sin(x) - 10*cos(x)\n",
        "\n",
        "def fd(x):\n",
        "    return 30*cos(x) + 10*sin(x)\n",
        "\n",
        "a = 3\n",
        "clama = 1000\n",
        "error = 100\n",
        "i = 0\n",
        "\n",
        "while error > 1/100:\n",
        "    i += 1\n",
        "    \n",
        "    c = a - f(a)/fd(a)\n",
        "    \n",
        "    error = abs((c-clama)/c)\n",
        "    clama = c\n",
        "    a = c\n",
        "\n",
        "print(i)\n",
        "print(c)"
      ],
      "metadata": {
        "colab": {
          "base_uri": "https://localhost:8080/"
        },
        "id": "AuC0Lxp58TzN",
        "outputId": "ca3257a6-f966-45a9-e595-8356d9e06667"
      },
      "execution_count": null,
      "outputs": [
        {
          "output_type": "stream",
          "name": "stdout",
          "text": [
            "3\n",
            "3.4633432079864366\n"
          ]
        }
      ]
    },
    {
      "cell_type": "markdown",
      "source": [
        "Yang terakhir yang mau kucontohin itu adalah metode Secant, ini pencarian akar dengan dua titik, tapi tidak seperti metode bracket seperti bisection dan regula falsi, dua titik ini sembarang dan tidak perlu mengetahui kalau ada akar diantaranya. Tidak perlu tau turunan dari fungsinya juga yang berguna di beberapa kasus. Ini juga metode yang sering aku pakai soalnya aku kadang males nurunin fungsi haha.\n",
        "\n",
        "Metode ini mirip dengan Newton-Rhapson dengan cara menarik garis dengan 2 titik sembarang yang kita pilih. \n",
        "\n",
        "$$c = b - \\frac{f(b)(b-a)}{f(b)-f(a)}$$\n",
        "\n",
        "Wait... bukannya ini rumus Regula Falsi? Benar kalau kalian berpikir seperti itu karena memang sama, bedanya adalah gimana kita pakai angka c nya. Kalau sebelumnya kita cari tau kalau akarnya antara a dan c atau b dan c, sekarang kita tukar b menjadi a dan c menjadi b."
      ],
      "metadata": {
        "id": "n2CIMcV88y1o"
      }
    },
    {
      "cell_type": "code",
      "source": [
        "def f(x):\n",
        "    return 30*sin(x) - 10*cos(x)\n",
        "\n",
        "a = 0\n",
        "b = 1\n",
        "clama = 1000\n",
        "error = 100\n",
        "i = 0\n",
        "\n",
        "while error > 1/100:\n",
        "    i += 1\n",
        "    \n",
        "    c = b - f(b)*(b-a)/(f(b) - f(a))\n",
        "    \n",
        "    error = abs((c-clama)/c)\n",
        "    clama = c\n",
        "    a = c\n",
        "\n",
        "print(i)\n",
        "print(c)"
      ],
      "metadata": {
        "colab": {
          "base_uri": "https://localhost:8080/"
        },
        "id": "oYmDt0yh8nru",
        "outputId": "982da754-6a53-43f7-af0c-a43f380012f0"
      },
      "execution_count": null,
      "outputs": [
        {
          "output_type": "stream",
          "name": "stdout",
          "text": [
            "3\n",
            "0.32183989548469893\n"
          ]
        }
      ]
    },
    {
      "cell_type": "code",
      "source": [
        ""
      ],
      "metadata": {
        "id": "ZKOEmVJR-fYp"
      },
      "execution_count": null,
      "outputs": []
    }
  ]
}